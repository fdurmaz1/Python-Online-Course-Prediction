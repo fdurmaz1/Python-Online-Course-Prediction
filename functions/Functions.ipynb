{
 "cells": [
  {
   "cell_type": "code",
   "execution_count": 17,
   "id": "4b0fe1df",
   "metadata": {},
   "outputs": [],
   "source": [
    "def select_correlation(data):\n",
    "    correlation_matrix = data.corr().abs()\n",
    "    sorted_correlation = correlation_matrix['cbrt_NumberRatings'].sort_values(ascending=False)\n",
    "    selected_features = sorted_correlation[sorted_correlation > 0.1]\n",
    "    selected_features = selected_features.drop('cbrt_NumberRatings')\n",
    "    return data[selected_features.index]\n",
    "\n",
    "\n",
    "def select_variance(data, threshold):\n",
    "    from sklearn.feature_selection import VarianceThreshold\n",
    "    selector = VarianceThreshold(threshold=threshold)\n",
    "    selected_features = selector.fit_transform(data)\n",
    "    feature_mask = selector.get_support()\n",
    "    selected_feature_names = data.columns[feature_mask]\n",
    "    selected_feature_names = selected_feature_names.drop('cbrt_NumberRatings')\n",
    "    df_selected = data[selected_feature_names]\n",
    "    return df_selected\n",
    "\n",
    "\n",
    "\n",
    "def select_kbest(data, num):\n",
    "    from sklearn.feature_selection import SelectKBest, f_regression\n",
    "    selector = SelectKBest(score_func=f_regression, k=num)\n",
    "    selected_features = selector.fit_transform(data, data['cbrt_NumberRatings'])\n",
    "    feature_mask = selector.get_support()\n",
    "    selected_feature_names = data.columns[feature_mask]\n",
    "    return data[selected_feature_names]\n",
    "\n",
    "import numpy as np\n",
    "\n",
    "def make_log(data):\n",
    "    transformed_data = np.log1p(data)\n",
    "    return transformed_data\n"
   ]
  }
 ],
 "metadata": {
  "kernelspec": {
   "display_name": "Python 3 (ipykernel)",
   "language": "python",
   "name": "python3"
  },
  "language_info": {
   "codemirror_mode": {
    "name": "ipython",
    "version": 3
   },
   "file_extension": ".py",
   "mimetype": "text/x-python",
   "name": "python",
   "nbconvert_exporter": "python",
   "pygments_lexer": "ipython3",
   "version": "3.9.13"
  }
 },
 "nbformat": 4,
 "nbformat_minor": 5
}
